{
  "nbformat": 4,
  "nbformat_minor": 0,
  "metadata": {
    "anaconda-cloud": {},
    "kernelspec": {
      "name": "python3",
      "display_name": "Python 3"
    },
    "nav_menu": {},
    "toc": {
      "colors": {
        "hover_highlight": "#DAA520",
        "navigate_num": "#000000",
        "navigate_text": "#333333",
        "running_highlight": "#FF0000",
        "selected_highlight": "#FFD700",
        "sidebar_border": "#EEEEEE",
        "wrapper_background": "#FFFFFF"
      },
      "moveMenuLeft": true,
      "nav_menu": {
        "height": "402px",
        "width": "253px"
      },
      "navigate_menu": true,
      "number_sections": false,
      "sideBar": true,
      "threshold": 4,
      "toc_cell": false,
      "toc_section_display": "block",
      "toc_window_display": true,
      "widenNotebook": false
    },
    "colab": {
      "name": "hw2.ipynb",
      "provenance": [],
      "collapsed_sections": []
    },
    "language_info": {
      "name": "python"
    }
  },
  "cells": [
    {
      "cell_type": "markdown",
      "metadata": {
        "id": "A550GdThiSYX"
      },
      "source": [
        "# Алгоритмы интеллектуальной обработки больших объемов данных\n",
        "## Домашнее задание №2: Линейные модели\n"
      ]
    },
    {
      "cell_type": "markdown",
      "metadata": {
        "id": "u3pJw4mIiSYa"
      },
      "source": [
        "###### <hr\\>\n",
        "**Общая информация**\n",
        "\n",
        "**Срок сдачи:** 05 апреля 18:00 Сдача **очная** на онлайн занятии. <br\\>\n",
        "\n",
        "\n",
        "Используйте данный Ipython Notebook при оформлении домашнего задания.\n",
        "\n",
        "Присылать ДЗ необходимо в виде ссылки на свой github репозиторий на почту ml1.sphere@mail.ru с указанием темы в следующем формате:\n",
        "\n",
        "[ML0920, Задание 2] Фамилия Имя.\n",
        "\n",
        "\n",
        "\n",
        "**Штрафные баллы:**\n",
        "\n",
        "1. Невыполнение PEP8 -1 балл\n",
        "2. Отсутствие фамилии в имени скрипта (скрипт должен называться по аналогии со stroykova_hw2.ipynb) -1 балл\n",
        "3. Все строчки должны быть выполнены. Нужно, чтобы output команды можно было увидеть уже в git'е. В противном случае -1 балл\n",
        "4. При оформлении ДЗ нужно пользоваться данным файлом в качестве шаблона. Не нужно удалять и видоизменять написанный код и текст, если явно не указана такая возможность. В противном случае -1 балл\n",
        "<hr\\>"
      ]
    },
    {
      "cell_type": "code",
      "metadata": {
        "collapsed": true,
        "id": "wAD4ey4GiSYc"
      },
      "source": [
        "import pandas as pd\n",
        "import numpy as np\n",
        "import matplotlib.pyplot as plt\n",
        "from sklearn.linear_model import SGDClassifier, LinearRegression\n",
        "from sklearn.preprocessing import StandardScaler\n",
        "from sklearn.utils import shuffle as sk_shuffler\n",
        "\n",
        "%matplotlib inline\n",
        "\n",
        "plt.style.use('ggplot')\n",
        "plt.rcParams['figure.figsize'] = (12,5)"
      ],
      "execution_count": 147,
      "outputs": []
    },
    {
      "cell_type": "markdown",
      "metadata": {
        "id": "gpKXDGabiSYd"
      },
      "source": [
        "Здравствуйте, уважаемые студенты! \n",
        "\n",
        "В этом задании мы будем реализовать линейные модели. Необходимо реализовать линейную и логистическую регрессии с L2 регуляризацией"
      ]
    },
    {
      "cell_type": "markdown",
      "metadata": {
        "id": "TXbWF3GOiSYd"
      },
      "source": [
        "# Теоретическое введение\n",
        "\n"
      ]
    },
    {
      "cell_type": "markdown",
      "metadata": {
        "id": "4VM2AEBaiSYd"
      },
      "source": [
        "Линейная регрессия решает задачу регрессии и оптимизирует функцию потерь MSE \n",
        "\n",
        "$$L(w) =  \\frac{1}{N}\\left[\\sum_i (y_i - a_i) ^ 2 \\right], $$ где $y_i$ $-$ целевая функция,  $a_i = a(x_i) =  \\langle\\,x_i,w\\rangle ,$ $-$ предсказание алгоритма на объекте $x_i$, $w$ $-$ вектор весов (размерности $D$), $x_i$ $-$ вектор признаков (такой же размерности $D$).\n",
        "\n",
        "Не забываем, что здесь и далее  мы считаем, что в $x_i$ есть тождественный вектор единиц, ему соответствует вес $w_0$.\n"
      ]
    },
    {
      "cell_type": "markdown",
      "metadata": {
        "id": "gnEtA0nXiSYe"
      },
      "source": [
        "Логистическая регрессия является линейным классификатором, который оптимизирует так называемый функционал log loss:"
      ]
    },
    {
      "cell_type": "markdown",
      "metadata": {
        "id": "m7tK0a6xiSYe"
      },
      "source": [
        "$$L(w) = - \\frac{1}{N}\\left[\\sum_i y_i \\log a_i + ( 1 - y_i) \\log (1 - a_i) \\right],$$\n",
        "где  $y_i  \\in \\{0,1\\}$ $-$ метка класса, $a_i$ $-$ предсказание алгоритма на объекте $x_i$. Модель пытается предсказать апостериорую вероятность объекта принадлежать к классу \"1\":\n",
        "$$ p(y_i = 1 | x_i) = a(x_i) =  \\sigma( \\langle\\,x_i,w\\rangle ),$$\n",
        "$w$ $-$ вектор весов (размерности $D$), $x_i$ $-$ вектор признаков (такой же размерности $D$).\n",
        "\n",
        "Функция $\\sigma(x)$ $-$ нелинейная функция, пероводящее скалярное произведение объекта на веса в число $\\in (0,1)$ (мы же моделируем вероятность все-таки!)\n",
        "\n",
        "$$\\sigma(x) = \\frac{1}{1 + \\exp(-x)}$$\n",
        "\n",
        "Если внимательно посмотреть на функцию потерь, то можно заметить, что в зависимости от правильного ответа алгоритм штрафуется или функцией $-\\log a_i$, или функцией $-\\log (1 - a_i)$.\n",
        "\n"
      ]
    },
    {
      "cell_type": "markdown",
      "metadata": {
        "id": "EGqJIpv9iSYe"
      },
      "source": [
        "Часто для решения проблем, которые так или иначе связаны с проблемой переобучения, в функционал качества добавляют слагаемое, которое называют ***регуляризацией***. Итоговый функционал для линейной регрессии тогда принимает вид:\n",
        "\n",
        "$$L(w) =  \\frac{1}{N}\\left[\\sum_i (y_i - a_i) ^ 2 \\right] + \\frac{1}{C}R(w) $$\n",
        "\n",
        "Для логистической: \n",
        "$$L(w) = - \\frac{1}{N}\\left[\\sum_i y_i \\log a_i + ( 1 - y_i) \\log (1 - a_i) \\right] +  \\frac{1}{C}R(w)$$\n",
        "\n",
        "Самое понятие регуляризации введено основателем ВМК академиком Тихоновым https://ru.wikipedia.org/wiki/Метод_регуляризации_Тихонова\n",
        "\n",
        "Идейно методика регуляризации заключается в следующем $-$ мы рассматриваем некорректно поставленную задачу (что это такое можно найти в интернете), для того чтобы сузить набор различных вариантов (лучшие из которых будут являться переобучением ) мы вводим дополнительные ограничения на множество искомых решений. На лекции Вы уже рассмотрели два варианта регуляризации.\n",
        "\n",
        "$L1$ регуляризация:\n",
        "$$R(w) = \\sum_{j=1}^{D}|w_j|$$\n",
        "$L2$ регуляризация:\n",
        "$$R(w) =  \\sum_{j=1}^{D}w_j^2$$\n",
        "\n",
        "С их помощью мы ограничиваем модель в  возможности выбора каких угодно весов минимизирующих наш лосс, модель уже не сможет подстроиться под данные как ей угодно. \n",
        "\n",
        "Вам нужно добавить соотвествущую Вашему варианту $L2$ регуляризацию.\n",
        "\n",
        "И так, мы поняли, какую функцию ошибки будем минимизировать, разобрались, как получить предсказания по объекту и обученным весам. Осталось разобраться, как получить оптимальные веса. Для этого нужно выбрать какой-то метод оптимизации.\n",
        "\n"
      ]
    },
    {
      "cell_type": "markdown",
      "metadata": {
        "id": "diRo1Pv2iSYf"
      },
      "source": [
        "Градиентный спуск является самым популярным алгоритмом обучения линейных моделей. В этом задании Вам предложат реализовать стохастический градиентный спуск или  мини-батч градиентный спуск (мини-батч на русский язык довольно сложно перевести, многие переводят это как \"пакетный\", но мне не кажется этот перевод удачным). Далее нам потребуется определение **эпохи**.\n",
        "Эпохой в SGD и MB-GD называется один проход по **всем** объектам в обучающей выборки.\n",
        "* В SGD градиент расчитывается по одному случайному объекту. Сам алгоритм выглядит примерно так:\n",
        "        1) Перемешать выборку\n",
        "        2) Посчитать градиент функции потерь на одном объекте (далее один объект тоже будем называть батчем)\n",
        "        3) Сделать шаг спуска\n",
        "        4) Повторять 2) и 3) пока не пройдет максимальное число эпох.\n",
        "* В Mini Batch SGD - по подвыборке объектов. Сам алгоритм выглядит примерно так::\n",
        "        1) Перемешать выборку, выбрать размер мини-батча (от 1 до размера выборки)\n",
        "        2) Почитать градиент функции потерь по мини-батчу (не забыть поделить на  число объектов в мини-батче)\n",
        "        3) Сделать шаг спуска\n",
        "        4) Повторять 2) и 3) пока не пройдет максимальное число эпох.\n",
        "* Для отладки алгоритма реализуйте возможность  вывода средней ошибки на обучении модели по объектам (мини-батчам). После шага градиентного спуска посчитайте значение ошибки на объекте (или мини-батче), а затем усредните, например, по ста шагам. Если обучение проходит корректно, то мы должны увидеть, что каждые 100 шагов функция потерь уменьшается. \n",
        "* Правило останова - максимальное количество эпох\n",
        "    \n"
      ]
    },
    {
      "cell_type": "markdown",
      "metadata": {
        "id": "XFfjBv6oiSYf"
      },
      "source": [
        "# Теоретические вопросы (2 балла)\n",
        "В этой части Вам будут предложены теоретичские вопросы и задачи по теме. Вы, конечно, можете списать их у своего товарища или найти решение в интернете, но учтите, что они обязательно войдут в теоретический коллоквиум. Лучше разобраться в теме сейчас и успешно ответить на коллоквиуме, чем списать, не разобравшись в материале, и быть терзаемым совестью. \n",
        "\n",
        "\n",
        "Формулы надо оформлять в формате **LaTeX**."
      ]
    },
    {
      "cell_type": "markdown",
      "metadata": {
        "id": "WQ0Rxx5TiSYf"
      },
      "source": [
        "Задача 1. Градиент для линейной регрессии.\n",
        "* Выпишите формулу обновления весов для линейной регрессии с L2 регуляризацией для мини-батч градиентого спуска размера $n$:\n",
        "\n",
        "$$ w_{new} = w_{old} - ... $$\n",
        "\n",
        " Отнеситесь к этому пункту максимально серьезно, это Вам нужно будет реализовать в задании.\n",
        " \n",
        "Проанализруйте итоговую формулу градиента - как  интуитивно можно  описать, чему равен градиент?"
      ]
    },
    {
      "cell_type": "markdown",
      "metadata": {
        "id": "OxYnrrKyiSYg"
      },
      "source": [
        "***Ваше решение здесь***\n",
        "$$ w_{new} = w_{old} - {\\alpha}{\\nabla}_w L(w_{old}) $$\n",
        "$$ L(w) = \\frac{1}{n} \\sum_{i = 1}^{n} (y_i - \\langle x_i , w \\rangle)^2 + \\frac{1}{C} \\sum_{j=1}^{D} w_j^2  $$\n",
        "$$w_{new} = w_{old} - 2 \\alpha ( \\frac{1}{n} \\sum_{i = 1}^{n} ( \\langle x_{i}, w_{old} \\rangle - y_{i})x_{i} + \\frac{w_{old}}{C})$$\n",
        "\n",
        " $\\alpha$ - шаг оптимизации, который может быть задан невозрастающей функцией $f(k)$ от номера $k$ шага оптимизации"
      ]
    },
    {
      "cell_type": "markdown",
      "metadata": {
        "id": "gsHPjUqeiSYg"
      },
      "source": [
        "Задача 2. Градиент для логистической регрессии.\n",
        "* Выпишите формулу обновления весов для логистической регрессии с L2 регуляризацией  для мини-батч градиентого спуска размера $n$:\n",
        "\n",
        "$$ w_{new} = w_{old} - ... $$\n",
        "\n",
        " Отнеситесь к этому пункту максимально серьезно, это Вам нужно будет реализовать в задании.\n",
        " \n",
        "Проанализруйте итоговую формулу градиента - как  интуитивно можно  описать, чему равен градиент? Как соотносится этот градиент с градиентом, возникающий в задаче линейной регрессии?\n",
        "\n",
        "Подсказка: Вам градиент, которой получается если “в лоб” продифференцировать,  надо немного преобразовать.\n",
        "Надо подставить, что $1 - \\sigma(w,x) $ это  $1 - a(x_i)$, а  $-\\sigma(w,x)$ это $0 - a(x_i)$.  Тогда получится свести к одной красивой формуле с линейной регрессией, которую программировать будет намного проще."
      ]
    },
    {
      "cell_type": "markdown",
      "metadata": {
        "id": "UmeyCrbciSYg"
      },
      "source": [
        "***Ваше решение здесь***\n",
        "$$ w_{new} = w_{old} - \\alpha \\nabla_{w}L(w_{old})$$\n",
        "\n",
        "$$a(x_i) = \\sigma(\\langle x_i, w \\rangle) = \\frac{1}{1 + e^{-\\langle x_i, w \\rangle}}$$\n",
        "\n",
        "$$L(w) = - \\frac{1}{n}\\left[\\sum_i y_i \\log a_i + ( 1 - y_i) \\log (1 - a_i) \\right] +  \\frac{1}{C} \\sum_{i=1}^{D} w_j^2$$\n",
        "\n",
        "$$\\frac{\\partial a(x_i)}{\\partial w_j} = \\frac{e^{-\\langle x_i, w \\rangle}x_{ij}}{(1 + e^{-\\langle x_i, w \\rangle})^2} = \\sigma(\\langle x_i, w\\rangle)(1 - \\sigma(\\langle x_i, w\\rangle)) x_{ij} = a(x_i) (1 - a(x_i)) x_{ij}$$\n",
        "$$\\frac{\\partial L(w)}{\\partial w} = - \\frac{1}{n}\\left[\\sum_i y_i \\frac{a_i(1 - a_i)x_{i}}{a_i\\ln 2} + ( 1 - y_i) \\frac{-a_i(1 - a_i)x_{i}}{(1 - a_i)\\ln2} \\right] +  \\frac{2}{C}w_{old}$$\n",
        "\n",
        "$$\\frac{\\partial L(w)}{\\partial w} = - \\frac{1}{n\\ln2}\\left[\\sum_i x_{i}(y_i (1 - a_i) + ( 1 - y_i) (-a_i))\\right] +  \\frac{2}{C}w_{old}$$\n",
        "\n",
        "$$\\frac{\\partial L(w)}{\\partial w} = - \\frac{1}{n\\ln2}\\left[\\sum_i x_{ik}(y_i - a_i)\\right] +  \\frac{2}{C}w_{old}$$\n",
        "\n",
        "$$w_{new} = w_{old} + \\alpha \\left(\\frac{1}{n\\ln2}\\left[\\sum_i x_{ik}(y_i - a_i)\\right] - \\frac{2}{C}w_{old} \\right)$$\n",
        "\n"
      ]
    },
    {
      "cell_type": "markdown",
      "metadata": {
        "id": "0bh3K1l_iSYg"
      },
      "source": [
        "Задача 3. Точное решение линейной регрессии\n",
        "\n",
        "На лекции было показано, что точное решение линейной регрессии имеет вид $w = (X^TX)^{-1}X^TY $. \n",
        "* Покажите, что это действительно является точкой минимума в случае, если матрица X имеет строк не меньше, чем столбцов и имеет полный ранг. Подсказка: посчитайте Гессиан и покажите, что в этом случае он положительно определен. \n",
        "* Выпишите точное решение для модели с $L2$ регуляризацией. Как L2 регуляризация помогает с точным решением где матрица X имеет линейно зависимые признаки?"
      ]
    },
    {
      "cell_type": "markdown",
      "metadata": {
        "id": "Y4wf4wejiSYh"
      },
      "source": [
        "***Ваше решение здесь***\n",
        "$$Q(w) = \\|Xw - y\\|^2 = (Xw - y)^T(Xw - y)$$\n",
        "\n",
        "$$\\nabla_wQ(w) = \\nabla_w(w^TX^TXw - w^TX^Ty - y^TXw + y^Ty) = 2X^TXw - 2X^Ty$$\n",
        "\n",
        "Критерий минимума функции нескольих переменных в точке экстремума: Гессиан функции положительно определён.\n",
        "\n",
        "$$\\nabla_w(\\nabla_wQ(w)) = \\nabla_w(2X^TXw - 2X^Ty) = 2X^TX$$\n",
        "\n",
        "$$rank(X^TX) = rank(X) = dim(\\vec{w})$$\n",
        "\n",
        "Дальше, так как это матрица имеет полный ранг, то матрица положительно опредлена!\n",
        "\n",
        "\n",
        "Решение для линейной регрессии с L2 регуляризацией: \n",
        "$$Q(w) = \\frac{1}{n}(w^{T} X^{T} X w - w^{T} X^{T}y - y^{T}Xw + y^{T}y) + \\frac{1}{C}w^{T}w$$\n",
        "$$ \\nabla_{w}Q(w) = 2X^{T}Xw - 2X^{T}y + \\frac{2}{C}Iw $$\n",
        "$$ \\nabla_{w} Q(w) = 0 \\iff w = (X^{T}X + \\frac{I}{C})^{-1} X^{T}y $$"
      ]
    },
    {
      "cell_type": "markdown",
      "metadata": {
        "id": "cs-Yzna3iSYh"
      },
      "source": [
        "Задача 4.  Предсказываем вероятности.\n",
        "\n",
        "Когда говорят о логистической регрессии, произносят фразу, что она \"предсказывает вероятности положительного класса\". Давайте разберемся, что же за этим стоит. Посчитаем математическое ожидание функции потерь и проверим, что предсказание алгоритма, оптимизирующее это мат. ожидание, будет являться вероятностью положительного класса. \n",
        "\n",
        "И так, функция потерь на объекте $x_i$, который имеет метку $y_i \\in \\{0,1\\}$  для предсказания $a(x_i)$ равна:\n",
        "$$L(y_i, b) =-[y_i == 1] \\log a(x_i)  - [y_i == 0] \\log(1 - a(x_i)) $$\n",
        "\n",
        "Где $[]$ означает индикатор $-$ он равен единице, если значение внутри него истинно, иначе он равен нулю. Тогда мат. ожидание при условии конкретного $x_i$  по определение мат. ожидания дискретной случайной величины:\n",
        "$$E(L | x_i) = -p(y_i = 1 |x_i ) \\log a(x_i)  - p(y_i = 0 | x_i) \\log( 1 - a(x_i))$$\n",
        "* Докажите, что значение $a(x_i)$, минимизирующее данное мат. ожидание, в точности равно $p(y_i = 1 |x_i)$, то есть равно вероятности положительного класса.\n",
        "\n",
        "Подсказка: возможно, придется воспользоваться, что  $p(y_i = 1 | x_i) + p(y_i = 0 | x_i) = 1$"
      ]
    },
    {
      "cell_type": "markdown",
      "metadata": {
        "id": "w1gxxhPAiSYi"
      },
      "source": [
        "***Ваше решение здесь***\n",
        "$$E(L | x_i) = -p(y_i = 1 |x_i ) \\log a(x_i)  - (1 - p(y_i = 1 | x_i))\\log( 1 - a(x_i))$$\n",
        "Обозначим $p_1 := p(y_i = 1| x_i)$, $a := a(x_i)$\n",
        "$$E(L|x_i) = -p_1\\log a - (1 - p_1)\\log (1 - a)$$\n",
        "$$E_{a}^{'}(L|x_i) = p_1(-\\frac{1}{1-a} - \\frac{1}{a}) + \\frac{1}{1-a} =$$\n",
        "$$= \\frac{-p_1}{(1-a)a} + \\frac{1}{1-a} = 0$$\n",
        "$$a = p_1$$\n",
        "$a = p_1$ - точка экстремума. Проверим, что в ней достигается максимум:\n",
        "$$L_{aa}^{''} = p_1\\frac{1 - 2a}{(1 - a)^2a^2} + \\frac{1}{(1 - a)^2}$$\n",
        "$$L_{aa}^{''}(a = p_1) = \\frac{1 - 2p_1}{(1 - p_1)^2p_1} + \\frac{1}{(1 - p_1)^2} = \\frac{1 - p_1}{(1 - p_1)^2p_1} > 0$$"
      ]
    },
    {
      "cell_type": "markdown",
      "metadata": {
        "id": "95Qt6FcWiSYi"
      },
      "source": [
        "Задача 5.  Смысл регуляризации.\n",
        "\n",
        "Нужно ли в L1/L2 регуляризации использовать свободный член $w_0$ (который не умножается ни на какой признак)?\n",
        "\n",
        "Подсказка: подумайте, для чего мы вводим $w_0$"
      ]
    },
    {
      "cell_type": "markdown",
      "metadata": {
        "id": "hMe--qI9iSYj"
      },
      "source": [
        "***Ваше решение здесь***\n",
        "Не должен присутствовать там, так как этот вес используется для нулевых весов, то есть некое такое смещение и штрафовать его не имеет смысла."
      ]
    },
    {
      "cell_type": "markdown",
      "metadata": {
        "id": "QqHHa-eyiSYj"
      },
      "source": [
        "#  Реализация линейной модели (4 балла)"
      ]
    },
    {
      "cell_type": "markdown",
      "metadata": {
        "id": "LkyDDwYLiSYj"
      },
      "source": [
        "## Зачем нужны батчи?\n"
      ]
    },
    {
      "cell_type": "markdown",
      "metadata": {
        "id": "FsmHnfxyiSYk"
      },
      "source": [
        "Как Вы могли заметить из теоретического введения, что в случае SGD, что в случа mini-batch GD,  на каждой итерации обновление весов  происходит только по небольшой части данных (1 пример в случае SGD, batch примеров в случае mini-batch). То есть для каждой итерации нам *** не нужна вся выборка***. Мы можем просто итерироваться по выборке, беря батч нужного размера (далее 1 объект тоже будем называть батчом).\n",
        "\n",
        "Легко заметить, что в этом случае нам не нужно загружать все данные в оперативную память, достаточно просто считать батч с диска, обновить веса, считать диска другой батч и так далее. В целях упрощения домашней работы, прямо с диска  мы считывать не будем, будем работать с обычными numpy array. \n",
        "\n",
        "\n",
        "\n"
      ]
    },
    {
      "cell_type": "markdown",
      "metadata": {
        "id": "uP5_wymwiSYk"
      },
      "source": [
        "## Немножко про генераторы в Python\n",
        "\n"
      ]
    },
    {
      "cell_type": "markdown",
      "metadata": {
        "id": "Fm3-jvsgiSYk"
      },
      "source": [
        "Идея считывания данных кусками удачно ложится на так называемые ***генераторы*** из языка Python. В данной работе Вам предлагается не только разобраться с логистической регрессией, но  и познакомиться с таким важным элементом языка.  При желании Вы можете убрать весь код, связанный с генераторами, и реализовать логистическую регрессию и без них, ***штрафоваться это никак не будет***. Главное, чтобы сама модель была реализована правильно, и все пункты были выполнены. \n",
        "\n",
        "Подробнее можно почитать вот тут https://anandology.com/python-practice-book/iterators.html\n"
      ]
    },
    {
      "cell_type": "markdown",
      "metadata": {
        "id": "9v74zEV6iSYl"
      },
      "source": [
        "К генератору стоит относиться просто как к функции, которая порождает не один объект, а целую последовательность объектов. Новое значение из последовательности генерируется с помощью ключевого слова ***yield***. Ниже Вы можете насладиться  генератором чисел Фибоначчи."
      ]
    },
    {
      "cell_type": "code",
      "metadata": {
        "collapsed": true,
        "id": "-NH0V6woiSYl"
      },
      "source": [
        "def fib(max_iter=4):\n",
        "    a, b = 0, 1\n",
        "    iter_num = 0\n",
        "    while 1:\n",
        "        yield a\n",
        "        a, b = b, a + b\n",
        "        iter_num += 1\n",
        "        if iter_num == max_iter:\n",
        "            break"
      ],
      "execution_count": 148,
      "outputs": []
    },
    {
      "cell_type": "markdown",
      "metadata": {
        "id": "Mx3eBcs3iSYl"
      },
      "source": [
        "Вот так можно сгенерировать последовательность Фибоначчи. \n",
        "\n",
        "Заметьте, что к генераторам можно применять некоторые стандартные функции из Python, например enumerate."
      ]
    },
    {
      "cell_type": "code",
      "metadata": {
        "colab": {
          "base_uri": "https://localhost:8080/"
        },
        "id": "-0b8IKqsiSYl",
        "outputId": "7f2e95c9-e38c-4d4c-96ff-983db9653ee0"
      },
      "source": [
        "new_generator = fib()\n",
        "for j, fib_val in enumerate(new_generator):\n",
        "    print (\"Fib num: \" + str(j) + \" fib values: \" + str(fib_val))"
      ],
      "execution_count": 149,
      "outputs": [
        {
          "output_type": "stream",
          "text": [
            "Fib num: 0 fib values: 0\n",
            "Fib num: 1 fib values: 1\n",
            "Fib num: 2 fib values: 1\n",
            "Fib num: 3 fib values: 2\n"
          ],
          "name": "stdout"
        }
      ]
    },
    {
      "cell_type": "markdown",
      "metadata": {
        "id": "eCYLXtbKiSYm"
      },
      "source": [
        "Пересоздавая объект, можно сколько угодно раз генерировать заново последовательность. "
      ]
    },
    {
      "cell_type": "code",
      "metadata": {
        "colab": {
          "base_uri": "https://localhost:8080/"
        },
        "id": "7a88bmk0iSYm",
        "outputId": "7392d19d-fb28-4da2-a95d-8be7380dc83c"
      },
      "source": [
        "for i in range(0, 3):\n",
        "    new_generator = fib()\n",
        "    for j, fib_val in enumerate(new_generator):\n",
        "        print (\"Fib num: \" + str(j) + \" fib values: \" + str(fib_val))"
      ],
      "execution_count": 150,
      "outputs": [
        {
          "output_type": "stream",
          "text": [
            "Fib num: 0 fib values: 0\n",
            "Fib num: 1 fib values: 1\n",
            "Fib num: 2 fib values: 1\n",
            "Fib num: 3 fib values: 2\n",
            "Fib num: 0 fib values: 0\n",
            "Fib num: 1 fib values: 1\n",
            "Fib num: 2 fib values: 1\n",
            "Fib num: 3 fib values: 2\n",
            "Fib num: 0 fib values: 0\n",
            "Fib num: 1 fib values: 1\n",
            "Fib num: 2 fib values: 1\n",
            "Fib num: 3 fib values: 2\n"
          ],
          "name": "stdout"
        }
      ]
    },
    {
      "cell_type": "markdown",
      "metadata": {
        "id": "5SmouxtSiSYm"
      },
      "source": [
        "А вот так уже нельзя."
      ]
    },
    {
      "cell_type": "code",
      "metadata": {
        "colab": {
          "base_uri": "https://localhost:8080/"
        },
        "id": "iEyx4KKqiSYn",
        "outputId": "308f8e44-df75-40e3-bf17-0e2f895299f2"
      },
      "source": [
        "new_generator = fib()\n",
        "for i in range(0, 3):\n",
        "    for j, fib_val in enumerate(new_generator):\n",
        "        print (\"Fib num: \" + str(j) + \" fib values: \" + str(fib_val))"
      ],
      "execution_count": 151,
      "outputs": [
        {
          "output_type": "stream",
          "text": [
            "Fib num: 0 fib values: 0\n",
            "Fib num: 1 fib values: 1\n",
            "Fib num: 2 fib values: 1\n",
            "Fib num: 3 fib values: 2\n"
          ],
          "name": "stdout"
        }
      ]
    },
    {
      "cell_type": "markdown",
      "metadata": {
        "id": "MRatutTOiSYn"
      },
      "source": [
        "Концепция крайне удобная для обучения  моделей $-$ у Вас есть некий источник данных, который Вам выдает их кусками, и Вам совершенно все равно откуда он их берет. Под ним может скрывать как массив в оперативной памяти, как файл на жестком диске, так и SQL база данных. Вы сами данные никуда не сохраняете, оперативную память экономите."
      ]
    },
    {
      "cell_type": "markdown",
      "metadata": {
        "id": "AeZyJrLZiSYn"
      },
      "source": [
        "Если Вам понравилась идея с генераторами, то Вы можете реализовать свой, используя прототип batch_generator. В нем Вам нужно выдавать батчи признаков и ответов для каждой новой итерации спуска. Если не понравилась идея, то можете реализовывать SGD или mini-batch GD без генераторов."
      ]
    },
    {
      "cell_type": "code",
      "metadata": {
        "collapsed": true,
        "id": "Uroothe4iSYn"
      },
      "source": [
        "def batch_generator(X, y, shuffle=True, batch_size=1):\n",
        "    \"\"\"\n",
        "    Гератор новых батчей для обучения\n",
        "    X          - матрица объекты-признаки\n",
        "    y_batch    - вектор ответов\n",
        "    shuffle    - нужно ли случайно перемешивать выборку\n",
        "    batch_size - размер батча ( 1 это SGD, > 1 mini-batch GD)\n",
        "    Генерирует подвыборку для итерации спуска (X_batch, y_batch)\n",
        "    \"\"\"\n",
        "    indexes = np.arange(X.shape[0])\n",
        "    if shuffle:\n",
        "        np.random.shuffle(indexes)\n",
        "    \n",
        "    #X_batch = \"\"\n",
        "    #y_batch = \"\"\n",
        "    for i in range(0, y.shape[0], batch_size):\n",
        "        X_batch = X[indexes[i: i + batch_size]]\n",
        "        y_batch = y[indexes[i: i + batch_size]]\n",
        "        yield (X_batch, y_batch)\n",
        "\n",
        "# Теперь можно сделать генератор по данным ()\n",
        "#my_batch_generator = batch_generator(X, y, shuffle=True, batch_size=1):\n",
        "#my_batch_generator = batch_generator(X, y, shuffle=True, batch_size=1)\n",
        "#for j, fib_val in enumerate(my_batch_generator):"
      ],
      "execution_count": 152,
      "outputs": []
    },
    {
      "cell_type": "code",
      "metadata": {
        "collapsed": true,
        "id": "lX8fg-yIiSYn"
      },
      "source": [
        "#%%pycodestyle\n",
        "\n",
        "def sigmoid(x):\n",
        "    \"\"\"\n",
        "    Вычисляем значение сигмоида.\n",
        "    X - выход линейной модели\n",
        "    \"\"\" \n",
        "    ## Your code Here\n",
        "    sigm_value_x = 1.0 / (1.0 + np.exp(-x))\n",
        "    return sigm_value_x\n",
        "\n",
        "from sklearn.base import BaseEstimator, ClassifierMixin\n",
        "\n",
        "class MySGDClassifier(BaseEstimator, ClassifierMixin):\n",
        "    \n",
        "    def __init__(self, batch_generator, C=10, alpha=0.01, batch_size=1, max_epoch=10, model_type='lin_reg'):\n",
        "        \"\"\"\n",
        "        batch_generator -- функция генератор, которой будем создавать батчи\n",
        "        C - коэф. регуляризации\n",
        "        alpha - скорость спуска\n",
        "        max_epoch - максимальное количество эпох\n",
        "        model_type - тим модели, lin_reg или log_reg\n",
        "        \"\"\"\n",
        "        \n",
        "        self.C = C\n",
        "        self.alpha = alpha\n",
        "        self.batch_size = batch_size\n",
        "        self.max_epoch = max_epoch\n",
        "        self.batch_generator = batch_generator\n",
        "        self.errors_log = {'iter' : [], 'loss' : []}  \n",
        "        self.model_type = model_type\n",
        "        \n",
        "    def calc_loss(self, X_batch, y_batch):\n",
        "        \"\"\"\n",
        "        Считаем функцию потерь по батчу \n",
        "        X_batch - матрица объекты-признаки по батчу\n",
        "        y_batch - вектор ответов по батчу\n",
        "        Не забудте тип модели (линейная или логистическая регрессия)!\n",
        "        \"\"\"\n",
        "        if self.model_type == 'lin_reg':\n",
        "            loss = np.mean((y_batch - X_batch.dot(self.weights) ** 2))\n",
        "        elif self.model_type == 'log_reg':\n",
        "            sig = sigmoid(X_batch.dot(self.weights))\n",
        "            loss = -np.mean(y_batch * np.log(sig) + (1 - y_batch) * np.log(1 - sig))\n",
        "        return loss + np.sum(self.weights[1:] ** 2) / self.C\n",
        "        \n",
        "    \n",
        "    def calc_loss_grad(self, X_batch, y_batch):\n",
        "        \"\"\"\n",
        "        Считаем  градиент функции потерь по батчу (то что Вы вывели в задании 1)\n",
        "        X_batch - матрица объекты-признаки по батчу\n",
        "        y_batch - вектор ответов по батчу\n",
        "        Не забудте тип модели (линейная или логистическая регрессия)!\n",
        "        \"\"\"\n",
        "        if self.model_type == 'lin_reg':\n",
        "            temp = np.dot(X_batch, self.weights)\n",
        "            loss_grad = (2 * np.dot(temp - y_batch, X_batch)) / X_batch.shape[0]\n",
        "        elif self.model_type == 'log_reg':\n",
        "            temp = sigmoid(np.dot(X_batch, self.weights))\n",
        "            loss_grad = (np.dot(temp - y_batch, X_batch)) / X_batch.shape[0]\n",
        "        l2_rgg = 2 * np.array([0] + list(self.weights[1:])) / self.C\n",
        "        loss_grad = loss_grad + l2_rgg\n",
        "        return loss_grad\n",
        "\n",
        "\n",
        "    def update_weights(self, new_grad):\n",
        "        \"\"\"\n",
        "        Обновляем вектор весов\n",
        "        new_grad - градиент по батчу\n",
        "        \"\"\"\n",
        "        self.weights -= self.alpha * new_grad\n",
        "    \n",
        "    def fit(self, X, y):\n",
        "        '''\n",
        "        Обучение модели\n",
        "        X - матрица объекты-признаки\n",
        "        y - вектор ответов\n",
        "        '''\n",
        "        X = np.hstack((np.ones(X.shape[0])[:, np.newaxis], X))\n",
        "        # Нужно инициализровать случайно веса\n",
        "        self.weights = np.random.uniform(-1, 1, size=X.shape[1])\n",
        "        for n in range(0, self.max_epoch):\n",
        "            new_epoch_generator = self.batch_generator(X, y, batch_size=self.batch_size)\n",
        "            for batch_num, new_batch in enumerate(new_epoch_generator):\n",
        "                X_batch = new_batch[0]\n",
        "                y_batch = new_batch[1]\n",
        "                batch_grad = self.calc_loss_grad(X_batch, y_batch)\n",
        "                batch_loss = self.calc_loss(X_batch, y_batch)\n",
        "                #self.update_weights(batch_grad)\n",
        "                # Подумайте в каком месте стоит посчитать ошибку для отладки модели\n",
        "                # До градиентного шага или после\n",
        "                #batch_loss = self.calc_loss(X_batch, y_batch)\n",
        "                self.errors_log['iter'].append(batch_num)\n",
        "                self.errors_log['loss'].append(batch_loss)\n",
        "                self.update_weights(batch_grad)\n",
        "                \n",
        "        return self\n",
        "        \n",
        "    def predict(self, X):\n",
        "        '''\n",
        "        Предсказание класса\n",
        "        X - матрица объекты-признаки\n",
        "        Не забудте тип модели (линейная или логистическая регрессия)!\n",
        "        '''\n",
        "        X = np.hstack((np.ones(X.shape[0])[:, np.newaxis], X))\n",
        "        if self.model_type == 'lin_reg':\n",
        "            y_hat = X.dot(self.weights)\n",
        "        elif self.model_type == 'log_reg':\n",
        "            y_hat = sigmoid(X.dot(self.weights))\n",
        "        # Желательно здесь использовать матричные операции между X и весами, например, numpy.dot \n",
        "        return y_hat"
      ],
      "execution_count": 220,
      "outputs": []
    },
    {
      "cell_type": "markdown",
      "metadata": {
        "id": "L6vhF1WQiSYo"
      },
      "source": [
        "Запустите обе регрессии на синтетических данных. \n",
        "\n",
        "\n",
        "Выведите полученные веса и нарисуйте разделяющую границу между классами (используйте только первых два веса для первых двух признаков X[:,0], X[:,1] для отображения в 2d пространство ).  "
      ]
    },
    {
      "cell_type": "code",
      "metadata": {
        "id": "ul1zNofq6zvk"
      },
      "source": [
        "def plot_decision_boundary(clf, X):\n",
        "    ## Your code Here\n",
        "    x1min, x1max = X[:,0].min(), X[:,0].max()\n",
        "    x2min, x2max = X[:,1].min(), X[:,1].max()\n",
        "\n",
        "    if np.abs(clf.weights[1]) > np.abs(clf.weights[2]):\n",
        "        x2 = np.linspace(x2min, x2max)\n",
        "        x1 = -(clf.weights[2]*x2 + clf.weights[0])/clf.weights[1]\n",
        "\n",
        "        mask = np.logical_and(x1 > x1min, x1 < x1max)\n",
        "        x2 = x2[mask]\n",
        "        x1 = x1[mask]\n",
        "    else:\n",
        "        x1 = np.linspace(x1min, x1max)\n",
        "        x2 = -(clf.weights[1]*x1 + clf.weights[0])/clf.weights[2]\n",
        "\n",
        "        mask = np.logical_and(x2 > x2min, x2 < x2max)\n",
        "        x1 = x1[mask]\n",
        "        x2 = x2[mask]\n",
        "\n",
        "    plt.plot(x1, x2)"
      ],
      "execution_count": 222,
      "outputs": []
    },
    {
      "cell_type": "code",
      "metadata": {
        "colab": {
          "base_uri": "https://localhost:8080/",
          "height": 371
        },
        "id": "9SH-lHjxiSYo",
        "outputId": "ab6bdbcc-2f10-4791-b827-bb75eca2a352"
      },
      "source": [
        "np.random.seed(0)\n",
        "\n",
        "C1 = np.array([[0., -0.8], [1.5, 0.8]])\n",
        "C2 = np.array([[1., -0.7], [2., 0.7]])\n",
        "gauss1 = np.dot(np.random.randn(200, 2) + np.array([5, 3]), C1)\n",
        "gauss2 = np.dot(np.random.randn(200, 2) + np.array([1.5, 0]), C2)\n",
        "\n",
        "X = np.vstack([gauss1, gauss2])\n",
        "y = np.r_[np.ones(200), np.zeros(200)]\n",
        "print(X.shape)\n",
        "print(y.shape)\n",
        "#plot_decision_boundary(MySGDClassifier)\n",
        "\n",
        "#X = StandardScaler().fit_transform(X)\n",
        "my_clf_lin = MySGDClassifier(batch_generator, model_type='lin_reg', batch_size=4).fit(X, y)\n",
        "my_clf_log = MySGDClassifier(batch_generator, model_type='log_reg').fit(X, y)\n",
        "clf_lin = LinearRegression(fit_intercept=False).fit(np.hstack((np.ones(X.shape[0])[:, np.newaxis], X)), y)\n",
        "clf_log = SGDClassifier(loss='log', fit_intercept=False).fit(np.hstack((np.ones(X.shape[0])[:, np.newaxis], X)), y)\n",
        "\n",
        "plt.scatter(X[:, 0], X[:, 1], c=y)\n",
        "plot_decision_boundary(my_clf_lin, X)\n",
        "#plot_decision_boundary(clf_lin)\n",
        "\n",
        "plot_decision_boundary(my_clf_log, X)\n",
        "#plot_decision_boundary(clf_log)\n",
        "plt.legend()\n",
        "plt.show()"
      ],
      "execution_count": 223,
      "outputs": [
        {
          "output_type": "stream",
          "text": [
            "(400, 2)\n",
            "(400,)\n"
          ],
          "name": "stdout"
        },
        {
          "output_type": "stream",
          "text": [
            "No handles with labels found to put in legend.\n"
          ],
          "name": "stderr"
        },
        {
          "output_type": "display_data",
          "data": {
            "image/png": "[encoded data removed]",
            "text/plain": [
              "<Figure size 864x360 with 1 Axes>"
            ]
          },
          "metadata": {
            "tags": []
          }
        }
      ]
    },
    {
      "cell_type": "markdown",
      "metadata": {
        "id": "iDnuFQUhiSYo"
      },
      "source": [
        "Далее будем анализировать Ваш алгоритм. \n",
        "Для этих заданий используйте датасет ниже."
      ]
    },
    {
      "cell_type": "code",
      "metadata": {
        "collapsed": true,
        "id": "UUiD06RSiSYo"
      },
      "source": [
        "from sklearn.datasets import make_classification"
      ],
      "execution_count": 224,
      "outputs": []
    },
    {
      "cell_type": "code",
      "metadata": {
        "collapsed": true,
        "id": "nzxXuvq8iSYp"
      },
      "source": [
        "X, y = make_classification(n_samples=100000, n_features=10, \n",
        "                           n_informative=4, n_redundant=0, \n",
        "                           random_state=123, class_sep=1.0,\n",
        "                           n_clusters_per_class=1)"
      ],
      "execution_count": 225,
      "outputs": []
    },
    {
      "cell_type": "markdown",
      "metadata": {
        "id": "RMT1lyZviSYp"
      },
      "source": [
        "Покажите сходимости обеих регрессией на этом датасете: изобразите график  функции потерь, усредненной по $N$ шагам градиентого спуска, для разных `alpha` (размеров шага). Разные `alpha` расположите на одном графике. \n",
        "\n",
        "$N$ можно брать 10, 50, 100 и т.д. "
      ]
    },
    {
      "cell_type": "code",
      "metadata": {
        "collapsed": true,
        "id": "xjWYoVeeiSYp",
        "colab": {
          "base_uri": "https://localhost:8080/",
          "height": 337
        },
        "outputId": "f460fdef-400e-42ce-9c2c-ff74f3228070"
      },
      "source": [
        "## Your Code Here\n",
        "N = 100\n",
        "weights = []\n",
        "for alpha in [0.0005, 0.001, 0.01, 0.05]:\n",
        "    clf = MySGDClassifier(batch_generator, alpha=alpha, C=1,\n",
        "                          max_epoch=1, model_type='lin_reg').fit(X, y)\n",
        "    loss = np.array(clf.errors_log['loss'])\n",
        "    plt.plot([loss[i:i + N].mean() for i in range(0, 10000, N)],\n",
        "             label=f'$\\\\alpha$={alpha}')\n",
        "    weights.append(clf.weights)\n",
        "avg = np.array(weights).mean(axis=0)\n",
        "plt.legend()\n",
        "plt.ylabel('MSE + reg loss')\n",
        "plt.ylim(0, 2)\n",
        "plt.title('Функция ошибки для линейной регрессии, C=1')\n",
        "plt.show()"
      ],
      "execution_count": 226,
      "outputs": [
        {
          "output_type": "display_data",
          "data": {
            "image/png": "[encoded data removed]",
            "text/plain": [
              "<Figure size 864x360 with 1 Axes>"
            ]
          },
          "metadata": {
            "tags": []
          }
        }
      ]
    },
    {
      "cell_type": "code",
      "metadata": {
        "colab": {
          "base_uri": "https://localhost:8080/",
          "height": 337
        },
        "id": "z7AWzSA_8rU2",
        "outputId": "2d74b6c2-285e-42b6-d8c0-8f1ba3e5cc0d"
      },
      "source": [
        "N = 100\n",
        "weights = []\n",
        "for alpha in [0.0005, 0.001, 0.01, 0.05]:\n",
        "    clf = MySGDClassifier(batch_generator, alpha=alpha, C=1,\n",
        "                          max_epoch=1, model_type='log_reg').fit(X, y)\n",
        "    loss = np.array(clf.errors_log['loss'])\n",
        "    plt.plot([loss[i:i + N].mean() for i in range(0, 10000, N)],\n",
        "             label=f'$\\\\alpha$={alpha}')\n",
        "    weights.append(clf.weights)\n",
        "avg = np.array(weights).mean(axis=0)\n",
        "plt.legend()\n",
        "plt.ylabel('MSE + reg loss')\n",
        "plt.ylim(0, 2)\n",
        "plt.title('Функция ошибки для линейной регрессии, C=1')\n",
        "plt.show()"
      ],
      "execution_count": 227,
      "outputs": [
        {
          "output_type": "display_data",
          "data": {
            "image/png": "[encoded data removed]",
            "text/plain": [
              "<Figure size 864x360 with 1 Axes>"
            ]
          },
          "metadata": {
            "tags": []
          }
        }
      ]
    },
    {
      "cell_type": "markdown",
      "metadata": {
        "id": "2tZbMIKKiSYp"
      },
      "source": [
        "Что Вы можете сказать про сходимость метода при различных `alpha`? Какое значение стоит выбирать для лучшей сходимости?"
      ]
    },
    {
      "cell_type": "markdown",
      "metadata": {
        "id": "Y88_EQgaiSYp"
      },
      "source": [
        "Изобразите график среднего значения весов для обеих регрессий в зависимости от коеф. регуляризации С из `np.logspace(3, -3, 10)` "
      ]
    },
    {
      "cell_type": "code",
      "metadata": {
        "collapsed": true,
        "id": "G7TwbzP5iSYp",
        "colab": {
          "base_uri": "https://localhost:8080/",
          "height": 493
        },
        "outputId": "407ea45f-fe8c-497a-c247-e387ad037912"
      },
      "source": [
        "## Your Code Here\n",
        "C1 = np.logspace(3, -3, 10)\n",
        "weights = np.zeros(len(lgspc))\n",
        "for i in range(len(lgspc)):\n",
        "    clf = MySGDClassifier(batch_generator, C=C1[i],\n",
        "                          max_epoch=1, model_type='lin_reg').fit(X, y)\n",
        "    weights[i] = clf.weights.mean()\n",
        "plt.xlim(-1, 100)\n",
        "plt.plot(lgspc, weights)"
      ],
      "execution_count": 228,
      "outputs": [
        {
          "output_type": "stream",
          "text": [
            "/usr/local/lib/python3.7/dist-packages/ipykernel_launcher.py:45: RuntimeWarning: overflow encountered in double_scalars\n",
            "/usr/local/lib/python3.7/dist-packages/ipykernel_launcher.py:41: RuntimeWarning: overflow encountered in square\n",
            "/usr/local/lib/python3.7/dist-packages/ipykernel_launcher.py:45: RuntimeWarning: invalid value encountered in double_scalars\n",
            "/usr/local/lib/python3.7/dist-packages/numpy/core/fromnumeric.py:87: RuntimeWarning: overflow encountered in reduce\n",
            "  return ufunc.reduce(obj, axis, dtype, out, **passkwargs)\n",
            "/usr/local/lib/python3.7/dist-packages/ipykernel_launcher.py:45: RuntimeWarning: overflow encountered in square\n",
            "/usr/local/lib/python3.7/dist-packages/ipykernel_launcher.py:61: RuntimeWarning: overflow encountered in true_divide\n",
            "/usr/local/lib/python3.7/dist-packages/ipykernel_launcher.py:71: RuntimeWarning: invalid value encountered in subtract\n"
          ],
          "name": "stderr"
        },
        {
          "output_type": "execute_result",
          "data": {
            "text/plain": [
              "[<matplotlib.lines.Line2D at 0x7efe5b49b3d0>]"
            ]
          },
          "metadata": {
            "tags": []
          },
          "execution_count": 228
        },
        {
          "output_type": "display_data",
          "data": {
            "image/png": "[encoded data removed]",
            "text/plain": [
              "<Figure size 864x360 with 1 Axes>"
            ]
          },
          "metadata": {
            "tags": []
          }
        }
      ]
    },
    {
      "cell_type": "code",
      "metadata": {
        "colab": {
          "base_uri": "https://localhost:8080/",
          "height": 510
        },
        "id": "DwXfOyLSFRlk",
        "outputId": "44d90aab-5a1d-42bf-92b5-48674d00acc1"
      },
      "source": [
        "C1 = np.logspace(3, -3, 10)\n",
        "weights = np.zeros(len(lgspc))\n",
        "for i in range(len(lgspc)):\n",
        "    clf = MySGDClassifier(batch_generator, C=C1[i],\n",
        "                          max_epoch=1, model_type='log_reg').fit(X, y)\n",
        "    weights[i] = clf.weights.mean()\n",
        "plt.xlim(-1, 300)\n",
        "plt.plot(lgspc, weights)"
      ],
      "execution_count": 229,
      "outputs": [
        {
          "output_type": "stream",
          "text": [
            "/usr/local/lib/python3.7/dist-packages/ipykernel_launcher.py:44: RuntimeWarning: divide by zero encountered in log\n",
            "/usr/local/lib/python3.7/dist-packages/ipykernel_launcher.py:44: RuntimeWarning: invalid value encountered in multiply\n",
            "/usr/local/lib/python3.7/dist-packages/ipykernel_launcher.py:9: RuntimeWarning: overflow encountered in exp\n",
            "  if __name__ == '__main__':\n",
            "/usr/local/lib/python3.7/dist-packages/ipykernel_launcher.py:45: RuntimeWarning: overflow encountered in double_scalars\n",
            "/usr/local/lib/python3.7/dist-packages/numpy/core/fromnumeric.py:87: RuntimeWarning: overflow encountered in reduce\n",
            "  return ufunc.reduce(obj, axis, dtype, out, **passkwargs)\n",
            "/usr/local/lib/python3.7/dist-packages/ipykernel_launcher.py:45: RuntimeWarning: overflow encountered in square\n",
            "/usr/local/lib/python3.7/dist-packages/ipykernel_launcher.py:61: RuntimeWarning: overflow encountered in true_divide\n"
          ],
          "name": "stderr"
        },
        {
          "output_type": "execute_result",
          "data": {
            "text/plain": [
              "[<matplotlib.lines.Line2D at 0x7efe5bfc4690>]"
            ]
          },
          "metadata": {
            "tags": []
          },
          "execution_count": 229
        },
        {
          "output_type": "display_data",
          "data": {
            "image/png": "[encoded data removed]",
            "text/plain": [
              "<Figure size 864x360 with 1 Axes>"
            ]
          },
          "metadata": {
            "tags": []
          }
        }
      ]
    },
    {
      "cell_type": "markdown",
      "metadata": {
        "id": "xFmkqO-tiSYp"
      },
      "source": [
        "Довольны ли Вы, насколько сильно уменьшились Ваши веса? "
      ]
    },
    {
      "cell_type": "markdown",
      "metadata": {
        "id": "rpBhbHzHiSYq"
      },
      "source": [
        "# Боевое применение (4  балла)\n",
        "\n",
        "**Защита данной части возможна только при преодолении в проекте бейзлайна Handmade baseline.**"
      ]
    },
    {
      "cell_type": "markdown",
      "metadata": {
        "id": "2mX57PYOiSYq"
      },
      "source": [
        "Давайте применим модель на итоговом проекте! Датасет сделаем точно таким же образом, как было показано в project_overview.ipynb\n",
        "\n",
        "Применим обе регрессии, подберем для них параметры и сравним качество. Может быть Вы еще одновременно с решением домашней работы подрастете на лидерборде!"
      ]
    },
    {
      "cell_type": "code",
      "metadata": {
        "id": "kVxmcwvSiSYq",
        "colab": {
          "base_uri": "https://localhost:8080/"
        },
        "outputId": "e0440618-c5db-4cab-891f-2e239a345086"
      },
      "source": [
        "doc_to_title = {}\n",
        "with open('docs_titles.tsv') as f:\n",
        "    for num_line, line in enumerate(f):\n",
        "        if num_line == 0:\n",
        "            continue\n",
        "        data = line.strip().split('\\t', 1)\n",
        "        doc_id = int(data[0])\n",
        "        if len(data) == 1:\n",
        "            title = ''\n",
        "        else:\n",
        "            title = data[1]\n",
        "        doc_to_title[doc_id] = title\n",
        "print (len(doc_to_title))\n"
      ],
      "execution_count": 230,
      "outputs": [
        {
          "output_type": "stream",
          "text": [
            "28026\n"
          ],
          "name": "stdout"
        }
      ]
    },
    {
      "cell_type": "code",
      "metadata": {
        "collapsed": true,
        "id": "K7Yk57WniSYq"
      },
      "source": [
        "import pandas as pd\n",
        "train_data = pd.read_csv('train_groups.csv')\n",
        "traingroups_titledata = {}\n",
        "for i in range(len(train_data)):\n",
        "    new_doc = train_data.iloc[i]\n",
        "    doc_group = new_doc['group_id']\n",
        "    doc_id = new_doc['doc_id']\n",
        "    target = new_doc['target']\n",
        "    title = doc_to_title[doc_id]\n",
        "    if doc_group not in traingroups_titledata:\n",
        "        traingroups_titledata[doc_group] = []\n",
        "    traingroups_titledata[doc_group].append((doc_id, title, target))"
      ],
      "execution_count": 231,
      "outputs": []
    },
    {
      "cell_type": "code",
      "metadata": {
        "id": "u3ZnjCW2iSYq",
        "colab": {
          "base_uri": "https://localhost:8080/"
        },
        "outputId": "7ddfca86-311e-4381-8c0c-26af35d81d2b"
      },
      "source": [
        "import numpy as np\n",
        "y_train = []\n",
        "X_train = []\n",
        "groups_train = []\n",
        "for new_group in traingroups_titledata:\n",
        "    docs = traingroups_titledata[new_group]\n",
        "    for k, (doc_id, title, target_id) in enumerate(docs):\n",
        "        y_train.append(target_id)\n",
        "        groups_train.append(new_group)\n",
        "        all_dist = []\n",
        "        words = set(title.strip().split())\n",
        "        for j in range(0, len(docs)):\n",
        "            if k == j:\n",
        "                continue\n",
        "            doc_id_j, title_j, target_j = docs[j]\n",
        "            words_j = set(title_j.strip().split())\n",
        "            all_dist.append(len(words.intersection(words_j)))\n",
        "        X_train.append(sorted(all_dist, reverse=True)[0:15]    )\n",
        "X_train = np.array(X_train)\n",
        "y_train = np.array(y_train)\n",
        "groups_train = np.array(groups_train)\n",
        "print (X_train.shape, y_train.shape, groups_train.shape)"
      ],
      "execution_count": 232,
      "outputs": [
        {
          "output_type": "stream",
          "text": [
            "(11690, 15) (11690,) (11690,)\n"
          ],
          "name": "stdout"
        }
      ]
    },
    {
      "cell_type": "markdown",
      "metadata": {
        "id": "4PzSm6YXiSYr"
      },
      "source": [
        "Подберите размер батча для обучения. Линейная модель не должна учиться дольше нескольких минут. \n",
        "\n",
        "Не забывайте использовать скейлер!"
      ]
    },
    {
      "cell_type": "code",
      "metadata": {
        "collapsed": true,
        "id": "_lRs5S_kiSYr"
      },
      "source": [
        "from sklearn.metrics import f1_score\n",
        "from sklearn.linear_model import LinearRegression\n",
        "from sklearn.preprocessing import StandardScaler"
      ],
      "execution_count": 233,
      "outputs": []
    },
    {
      "cell_type": "code",
      "metadata": {
        "collapsed": true,
        "id": "_GGY3M3XiSYr"
      },
      "source": [
        "skaler = StandardScaler()\n",
        "X_train = skaler.fit_transform(X_train)"
      ],
      "execution_count": 234,
      "outputs": []
    },
    {
      "cell_type": "code",
      "metadata": {
        "collapsed": true,
        "id": "KdVPgV0kiSYr",
        "colab": {
          "base_uri": "https://localhost:8080/"
        },
        "outputId": "dbc8fe04-ffe6-4802-e5e0-c3e7db08d931"
      },
      "source": [
        "import timeit\n",
        "for batch_size in [10, 50, 100, 200, 400,  500, 600, 700, 1000]:\n",
        "    start = timeit.default_timer()\n",
        "    clf = MySGDClassifier(batch_generator, max_epoch=100, model_type='log_reg',\n",
        "                          batch_size=batch_size).fit(X_train, y_train)\n",
        "    print(f'{batch_size}, {timeit.default_timer() - start}')\n",
        "batch_size = 500"
      ],
      "execution_count": 235,
      "outputs": [
        {
          "output_type": "stream",
          "text": [
            "10, 8.836806428000273\n",
            "50, 2.004595349997544\n",
            "100, 1.1090009850013303\n",
            "200, 0.6748040279999259\n",
            "400, 0.4711191649985267\n",
            "500, 0.41408732299896656\n",
            "600, 0.643588685998111\n",
            "700, 0.5956472979996761\n",
            "1000, 0.5338847929997428\n"
          ],
          "name": "stdout"
        }
      ]
    },
    {
      "cell_type": "markdown",
      "metadata": {
        "id": "h-oXK3BziSYr"
      },
      "source": [
        "Разбейте данные на обучение и валидацию. Подберите параметры C, alpha, max_epoch, model_type на валидации (Вы же помните, как правильно в этой задаче делать валидацию?)"
      ]
    },
    {
      "cell_type": "code",
      "metadata": {
        "collapsed": true,
        "id": "3uj0FSstiSYs"
      },
      "source": [
        "tot_len = np.unique(groups_train).shape[0]\n",
        "pcs_len = tot_len // 3\n",
        "cv = []\n",
        "for i in range(3):\n",
        "    f_ind = np.where((i * pcs_len <= groups_train)\n",
        "                     & (groups_train < (i + 1) * pcs_len))\n",
        "    t_ind = np.where(np.logical_not((i * pcs_len <= groups_train)\n",
        "                     & (groups_train < (i + 1) * pcs_len)))\n",
        "    fold = np.array(f_ind)[0][:, np.newaxis].ravel()\n",
        "    train = np.array(t_ind)[0][:, np.newaxis].ravel()\n",
        "    cv.append([train, fold])"
      ],
      "execution_count": 236,
      "outputs": []
    },
    {
      "cell_type": "code",
      "metadata": {
        "colab": {
          "base_uri": "https://localhost:8080/"
        },
        "id": "3MRgGZpeRRns",
        "outputId": "682a0a06-28c8-45e8-fdb6-5171f38aac50"
      },
      "source": [
        "def get_score(train, test, **kwargs):\n",
        "    clf = MySGDClassifier(batch_generator, batch_size=500, **kwargs)\n",
        "    clf.fit(X_train[train], y_train[train])\n",
        "    pred = clf.predict(X_train[test])\n",
        "    if kwargs['model_type'] == 'lin_reg':\n",
        "        return np.linalg.norm(pred - y_train[test])\n",
        "    else:\n",
        "        return -(y_train[test] * np.log(pred)\n",
        "                 + (1 - y_train[test])*np.log(1-pred)).mean()\n",
        "\n",
        "\n",
        "top_score = None\n",
        "best_param = {}\n",
        "for alpha in [0.001, 0.005, 0.01]:\n",
        "    for C in np.logspace(1, -1, 10):\n",
        "        for max_epoch in [1, 5, 10, 15, 25]:\n",
        "            for model_type in ['lin_reg', 'log_reg']:\n",
        "                    score = 0\n",
        "                    for train, test in cv:\n",
        "                        score += get_score(train, test, alpha=alpha, C=C,\n",
        "                                           max_epoch=max_epoch,\n",
        "                                           model_type=model_type)\n",
        "                    score /= 3\n",
        "                    if top_score is None or score < top_score:\n",
        "                        top_score = score\n",
        "                        best_param = {\n",
        "                            'alpha':alpha,\n",
        "                            'C':C,\n",
        "                            'max_epoch':max_epoch,\n",
        "                            'model_type':model_type,\n",
        "                        }\n",
        "best_param"
      ],
      "execution_count": 237,
      "outputs": [
        {
          "output_type": "execute_result",
          "data": {
            "text/plain": [
              "{'C': 5.99484250318941,\n",
              " 'alpha': 0.005,\n",
              " 'max_epoch': 25,\n",
              " 'model_type': 'log_reg'}"
            ]
          },
          "metadata": {
            "tags": []
          },
          "execution_count": 237
        }
      ]
    },
    {
      "cell_type": "markdown",
      "metadata": {
        "collapsed": true,
        "id": "zrHI8226iSYs"
      },
      "source": [
        "Подберите порог линейной модели, по достижении которого, Вы будете относить объект к классу 1. Вспомните, какую метрику мы оптимизируем в соревновании.  Как тогда правильно подобрать порог?"
      ]
    },
    {
      "cell_type": "code",
      "metadata": {
        "collapsed": true,
        "id": "ZCvBItopiSYs"
      },
      "source": [
        "max_score = 0\n",
        "top_th = 0\n",
        "for th in np.arange(0.2, 0.8, 0.01):\n",
        "    score = 0\n",
        "    for train, test in cv:\n",
        "        clf = MySGDClassifier(batch_generator, batch_size=500, **top_param)\n",
        "        clf.fit(X_train[train], y_train[train])\n",
        "        pred = clf.predict(X_train[test])\n",
        "        score += f1_score(np.where(pred > th, 1, 0), y_train[test])\n",
        "    score /= 3\n",
        "    if score > max_score:\n",
        "        max_score = score\n",
        "        top_th = th"
      ],
      "execution_count": 238,
      "outputs": []
    },
    {
      "cell_type": "code",
      "metadata": {
        "collapsed": true,
        "id": "QlUJKfY8iSYs",
        "colab": {
          "base_uri": "https://localhost:8080/"
        },
        "outputId": "ef0b0c8b-01a5-45f7-9a26-dcc8e2ea0817"
      },
      "source": [
        "\n",
        "top_th, max_score"
      ],
      "execution_count": 239,
      "outputs": [
        {
          "output_type": "execute_result",
          "data": {
            "text/plain": [
              "(0.3200000000000001, 0.6157197169429867)"
            ]
          },
          "metadata": {
            "tags": []
          },
          "execution_count": 239
        }
      ]
    },
    {
      "cell_type": "markdown",
      "metadata": {
        "id": "pA6TuJoWiSYs"
      },
      "source": [
        "С лучшими параметрами на валидации сделайте предсказание на тестовом множестве, отправьте его на проверку на платформу kaggle. Убедитесь, что Вы смогли побить public score первого бейзлайна."
      ]
    },
    {
      "cell_type": "markdown",
      "metadata": {
        "collapsed": true,
        "id": "aOjdlwRuiSYs"
      },
      "source": [
        "** При сдаче домашки Вам необходимо кроме ссылки на ноутбук показать Ваш ник на kaggle, под которым Вы залили решение, которое побило Handmade baseline. **"
      ]
    },
    {
      "cell_type": "code",
      "metadata": {
        "collapsed": true,
        "id": "W6-eQHdCiSYt"
      },
      "source": [
        "test_data = pd.read_csv('test_groups.csv')\n",
        "testgroups_titledata = {}\n",
        "for i in range(len(test_data)):\n",
        "    new_doc = test_data.iloc[i]\n",
        "    doc_group = new_doc['group_id']\n",
        "    doc_id = new_doc['doc_id']\n",
        "    pair_id =  new_doc['pair_id']\n",
        "    title = doc_to_title[doc_id]\n",
        "    if doc_group not in testgroups_titledata:\n",
        "        testgroups_titledata[doc_group] = []\n",
        "    testgroups_titledata[doc_group].append((doc_id, title, pair_id))"
      ],
      "execution_count": 240,
      "outputs": []
    },
    {
      "cell_type": "code",
      "metadata": {
        "colab": {
          "base_uri": "https://localhost:8080/"
        },
        "id": "D04I_PAdSRXv",
        "outputId": "76752bc2-03a3-40b2-f931-d7293ad00033"
      },
      "source": [
        "X_test = []\n",
        "pair_ids = []\n",
        "groups_test = []\n",
        "for new_group in testgroups_titledata:\n",
        "    docs = testgroups_titledata[new_group]\n",
        "    for k, (doc_id, title, pair_id) in enumerate(docs):\n",
        "        pair_ids.append(pair_id)\n",
        "        groups_test.append(new_group)\n",
        "        all_dist = []\n",
        "        words = set(title.strip().split())\n",
        "        for j in range(0, len(docs)):\n",
        "            if k == j:\n",
        "                continue\n",
        "            doc_id_j, title_j, pair_id_j = docs[j]\n",
        "            words_j = set(title_j.strip().split())\n",
        "            all_dist.append(len(words.intersection(words_j)))\n",
        "        X_test.append(sorted(all_dist, reverse=True)[0:15])\n",
        "pair_ids = np.array(pair_ids)\n",
        "X_test = np.array(X_test)\n",
        "groups_test = np.array(groups_test)\n",
        "print(X_test.shape, groups_test.shape, pair_ids.shape)"
      ],
      "execution_count": 241,
      "outputs": [
        {
          "output_type": "stream",
          "text": [
            "(16627, 15) (16627,) (16627,)\n"
          ],
          "name": "stdout"
        }
      ]
    },
    {
      "cell_type": "code",
      "metadata": {
        "id": "oLkCiCYqSUCe"
      },
      "source": [
        "X_test = skaler.transform(X_test)\n",
        "clf = MySGDClassifier(batch_generator, batch_size=500, **top_param)\n",
        "clf.fit(X_train, y_train)\n",
        "pred = np.where(clf.predict(X_test) > top_th, 1, 0)\n",
        "df = pd.DataFrame({'pair_id': pair_ids, 'target': pred})\n",
        "df.to_csv('prediction.csv', index=False)"
      ],
      "execution_count": 242,
      "outputs": []
    },
    {
      "cell_type": "markdown",
      "metadata": {
        "id": "8ryQVvX-iSYt"
      },
      "source": [
        "# Фидбек (бесценно)"
      ]
    },
    {
      "cell_type": "markdown",
      "metadata": {
        "id": "BhqOUB0GiSYt"
      },
      "source": [
        "* Какие аспекты обучения линейных моделей Вам показались непонятными? Какое место стоит дополнительно объяснить?"
      ]
    },
    {
      "cell_type": "markdown",
      "metadata": {
        "id": "AAhjyvJRiSYt"
      },
      "source": [
        "***Ваше ответ здесь***"
      ]
    },
    {
      "cell_type": "markdown",
      "metadata": {
        "id": "zDD9hyTwiSYt"
      },
      "source": [
        "* Здесь Вы можете оставить отзыв о этой домашней работе или о всем курсе.   "
      ]
    },
    {
      "cell_type": "markdown",
      "metadata": {
        "id": "BosBNzCiiSYt"
      },
      "source": [
        "*** ВАШ ОТЗЫВ ЗДЕСЬ***"
      ]
    },
    {
      "cell_type": "code",
      "metadata": {
        "collapsed": true,
        "id": "4vmdFt6biSYt"
      },
      "source": [
        "Nik = maximzhenin , score = 0.59...."
      ],
      "execution_count": null,
      "outputs": []
    },
    {
      "cell_type": "code",
      "metadata": {
        "collapsed": true,
        "id": "rgW2b7jgiSYt"
      },
      "source": [
        ""
      ],
      "execution_count": null,
      "outputs": []
    }
  ]
}