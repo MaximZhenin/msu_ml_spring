{
 "cells": [
  {
   "cell_type": "markdown",
   "metadata": {
    "id": "e8I57YaeZZxp"
   },
   "source": [
    "### Алгоритмы интеллектуальной обработки больших объемов данных\n",
    "## Домашнее задание №4 - Градиентный бустинг\n"
   ]
  },
  {
   "cell_type": "markdown",
   "metadata": {
    "id": "NrK-3F0WZZxq"
   },
   "source": [
    "**Общая информация**\n",
    "\n",
    "**Срок сдачи:** 10 мая 2021, 08:30   \n",
    "**Штраф за опоздание:** -2 балла после 08:30 10 мая, -4 балла после 08:30 17 мая, -6 баллов после 08:30 24 мая, -8 баллов после 08:30 31 мая.\n",
    "\n",
    "При отправлении ДЗ указывайте фамилию в названии файла Присылать ДЗ необходимо в виде ссылки на свой github репозиторий на почту ml1.sphere@mail.ru с указанием темы в следующем формате:\n",
    "[ML0221, Задание 4] Фамилия Имя. \n",
    "\n",
    "\n",
    "Используйте данный Ipython Notebook при оформлении домашнего задания."
   ]
  },
  {
   "cell_type": "markdown",
   "metadata": {
    "id": "g0a0sJ9zZZxs"
   },
   "source": [
    "##  Считаем производные для функций потерь (1 балл)"
   ]
  },
  {
   "cell_type": "markdown",
   "metadata": {
    "id": "oHgDaQm0ZZxt"
   },
   "source": [
    "Мы будем реализовать градиентный бустинг для 3 функций потерь:\n",
    "\n",
    "1) MSE  $L(a(x_i), y_i) = (y_i - a(x_i)) ^ 2$\n",
    "\n",
    "2) Экспоненциальная  $L(a(x_i), y_i) = exp( -a(x_i) y_i), y_i \\in \\{-1, 1\\}$\n",
    "\n",
    "3) Логистическая  $L(a(x_i), y_i) = \\log (1 + exp( -a(x_i) y_i)), y_i \\in \\{-1, 1\\}$\n",
    "\n",
    "где $a(x_i)$ предсказание бустинга на итом объекте. \n",
    "\n",
    "Для каждой функции потерь напишите таргет, на который будет настраиваться каждое дерево в бустинге. "
   ]
  },
  {
   "cell_type": "markdown",
   "metadata": {
    "id": "uUi71XnxZZxv"
   },
   "source": [
    "Ваше решение тут\n",
    "\n",
    "1) $ -\\frac{\\partial L}{\\partial a} (a(x_i), y_i) = 2 \\cdot (y_i - a(x_i))$\n",
    "\n",
    "2) $ -\\frac{\\partial L}{\\partial a} (a(x_i), y_i) = y_i \\cdot exp(-a(x_i) y_i)$\n",
    "\n",
    "3) $ -\\frac{\\partial L}{\\partial a} (a(x_i), y_i) = \\frac{y_i \\cdot exp(-a(x_i) y_i)}{1 + exp( -a(x_i) y_i)}$"
   ]
  },
  {
   "cell_type": "markdown",
   "metadata": {
    "id": "j-KOLfUAZZxv"
   },
   "source": []
  },
  {
   "cell_type": "markdown",
   "metadata": {
    "id": "I1iQu_MRZZxw"
   },
   "source": [
    "##  Реализуем градиентный бустинг (3 балла)"
   ]
  },
  {
   "cell_type": "markdown",
   "metadata": {
    "id": "ulMsMQrkZZxy"
   },
   "source": [
    "Реализуйте класс градиентного бустинга для классификации. Ваша реализация бустинга должна работать по точности не более чем на 5 процентов хуже чем GradientBoostingClassifier из sklearn. \n"
   ]
  },
  {
   "cell_type": "markdown",
   "metadata": {
    "id": "PLE-vgK1ZZxz"
   },
   "source": [
    "Детали реализации:\n",
    "\n",
    "-- должно поддерживаться 3 функции потерь\n",
    "\n",
    "-- сами базовые алгоритмы(деревья, линейные модели и тп) реализовать не надо, просто возьмите готовые из sklearn\n",
    "\n",
    "-- в качестве функции потерь для построения одного дерева используйте MSE\n",
    "\n",
    "-- шаг в бустинге можно не подбирать, можно брать константный\n",
    "\n",
    "-- можно брать разные модели в качестве инициализации бустинга\n",
    "\n",
    "-- должны поддерживаться следующие параметры:\n",
    "\n",
    "а) число итераций\n",
    "б) размер шага\n",
    "в) процент случайных фичей при построении одного дерева\n",
    "д) процент случайных объектов при построении одного дерева\n",
    "е) параметры базового алгоритма (передавайте через **kwargs)"
   ]
  },
  {
   "cell_type": "code",
   "execution_count": 1,
   "metadata": {
    "id": "e-RfHrTLZZxz"
   },
   "outputs": [],
   "source": [
    "import numpy as np\n",
    "\n",
    "from sklearn.datasets import load_wine\n",
    "from sklearn.ensemble import GradientBoostingClassifier, RandomForestRegressor\n",
    "from sklearn.metrics import accuracy_score\n",
    "from sklearn.model_selection import train_test_split\n",
    "from sklearn.tree import DecisionTreeRegressor\n",
    "import matplotlib.pyplot as plt"
   ]
  },
  {
   "cell_type": "code",
   "execution_count": 11,
   "metadata": {
    "id": "sqi2ss-7ZZx0"
   },
   "outputs": [],
   "source": [
    "class MyGradientBoostingClassifier:\n",
    "\n",
    "    def __init__(self, loss='mse', learning_rate=0.1, n_estimators=100, colsample=1, subsample=1, *args, **kwargs):\n",
    "        \"\"\"\n",
    "        loss -- один из 3 лоссов:\n",
    "        learning_rate -- шаг бустинга\n",
    "        n_estimators -- число итераций\n",
    "        subsample -- процент рандомных признаков при обучнеии одного алгоритма\n",
    "        colsample -- процент рандомных объектов при обучнеии одного алгоритма\n",
    "        args, kwargs -- параметры  базовых моделей\n",
    "        \"\"\"\n",
    "        # Ваш код здесь\n",
    "        self.loss = loss\n",
    "        self.learning_rate = learning_rate\n",
    "        self.n_estimators = n_estimators\n",
    "        self.colsample = colsample\n",
    "        self.subsample = subsample\n",
    "        self.models = []\n",
    "        self.args = args\n",
    "        self.kwargs = kwargs\n",
    "        \n",
    "        def loss_MSE(ai, y):\n",
    "            return np.mean(np.square(y - ai))\n",
    "\n",
    "        def target_MSE(ai, y):\n",
    "            return 2 * (y - ai)\n",
    "\n",
    "        def loss_exp(ai, y):\n",
    "            return np.mean(np.exp(- y * ai))\n",
    "\n",
    "        def target_exp(ai, y):\n",
    "            return y * np.exp(- y * ai)\n",
    "\n",
    "        def loss_log(ai, y):\n",
    "            return np.mean(np.log(1 + np.exp(- y * ai)))\n",
    "\n",
    "        def target_log(ai, y):\n",
    "            return (y * np.exp(-y * ai)) / (1 + np.exp(-y * ai)) \n",
    "        \n",
    "        if self.loss == \"mse\":\n",
    "            self.loss_f = loss_MSE\n",
    "            self.target = target_MSE\n",
    "        elif self.loss == \"exponent\":\n",
    "            self.loss_f = loss_exp\n",
    "            self.target = target_exp\n",
    "        elif self.loss == \"logit\":\n",
    "            self.loss_f = loss_log\n",
    "            self.target = target_log\n",
    "    \n",
    "    def fit(self, X, y, base_model=DecisionTreeRegressor, init_model=None):\n",
    "        \"\"\"\n",
    "        X -- объекты для обучения:\n",
    "        y -- таргеты для обучения\n",
    "        base_model -- класс базовых моделей, например sklearn.tree.DecisionTreeRegressor\n",
    "        init_model -- класс для первой модели, если None то берем константу (только для посл задания)\n",
    "        \"\"\"\n",
    "        # Ваш код здесь\n",
    "        if init_model == None:\n",
    "            model = None\n",
    "        else:\n",
    "            init = init_model(*self.args, **self.kwargs)\n",
    "            model = init.fit(X, y)\n",
    "        self.models.append((model, None))\n",
    "        \n",
    "        for i in range(1, self.n_estimators + 1):\n",
    "            rand_obj = np.random.choice(X.shape[0], round(X.shape[0] * self.subsample), replace=False)\n",
    "            rand_feat = np.random.choice(X.shape[1], round(X.shape[1] * self.colsample), replace=False)\n",
    "            X_1 = X[rand_obj]\n",
    "            y_1 = y[rand_obj]\n",
    "            grand = self.target(self.predict(X_1), y_1)\n",
    "            model = base_model(*self.args, **self.kwargs)\n",
    "            model.fit(X_1[:,rand_feat], grand)\n",
    "            self.models.append((model, rand_feat))\n",
    "        return self\n",
    "    \n",
    "    def predict(self, X):\n",
    "        # Ваш код здесь\n",
    "        if self.models[0][0] == None:\n",
    "            pred = np.zeros(X.shape[0])\n",
    "        else:\n",
    "            pred = self.models[0][0].predict(X)\n",
    "        for m in self.models[1:]:\n",
    "            pred += self.learning_rate * m[0].predict(X[:,m[1]])\n",
    "        return np.rint(pred).astype(int)\n"
   ]
  },
  {
   "cell_type": "code",
   "execution_count": 12,
   "metadata": {
    "id": "i95ZNvirZZx2"
   },
   "outputs": [],
   "source": [
    "my_clf = MyGradientBoostingClassifier()\n",
    "clf = GradientBoostingClassifier()"
   ]
  },
  {
   "cell_type": "code",
   "execution_count": 13,
   "metadata": {
    "id": "CjgPZUHIZZx3"
   },
   "outputs": [],
   "source": [
    "wine = load_wine()\n",
    "X_train, X_test, y_train, y_test = train_test_split(wine.data, wine.target, test_size=0.1, stratify=wine.target)"
   ]
  },
  {
   "cell_type": "code",
   "execution_count": 14,
   "metadata": {
    "colab": {
     "base_uri": "https://localhost:8080/"
    },
    "id": "H17rH9M0ZZx3",
    "outputId": "132a7c83-8b08-452c-9791-81bc032f4368"
   },
   "outputs": [
    {
     "name": "stdout",
     "output_type": "stream",
     "text": [
      "0.9444444444444444\n",
      "0.9444444444444444\n"
     ]
    }
   ],
   "source": [
    "my_clf.fit(X_train, y_train)\n",
    "clf.fit(X_train, y_train)\n",
    "print(accuracy_score(y_pred=clf.predict(X_test), y_true=y_test))\n",
    "print(accuracy_score(y_pred=my_clf.predict(X_test), y_true=y_test))"
   ]
  },
  {
   "cell_type": "markdown",
   "metadata": {
    "id": "K4vZggF8ZZx4"
   },
   "source": [
    "## Подбираем параметры (2 балла)\n",
    "\n",
    "Давайте попробуем применить Ваш бустинг для предсказаний цены домов в Калифорнии. Чтобы можно было попробовтаь разные функции потерь, переведем по порогу таргет в 2 класса: дорогие и дешевые дома."
   ]
  },
  {
   "cell_type": "markdown",
   "metadata": {
    "id": "YgDxiJsrZZx6"
   },
   "source": [
    "В задании нужно\n",
    "\n",
    "1) Построить график точности в зависимости от числа итераций на валидации.\n",
    "\n",
    "2) Подобрать оптимальные параметры Вашего бустинга на валидации. \n"
   ]
  },
  {
   "cell_type": "code",
   "execution_count": 6,
   "metadata": {
    "colab": {
     "base_uri": "https://localhost:8080/"
    },
    "id": "oiCIp7CYZZx7",
    "outputId": "60ed29e8-abc6-44e4-cc8c-8058ec3fc2aa"
   },
   "outputs": [
    {
     "name": "stderr",
     "output_type": "stream",
     "text": [
      "Downloading Cal. housing from https://ndownloader.figshare.com/files/5976036 to /root/scikit_learn_data\n"
     ]
    }
   ],
   "source": [
    "from sklearn.datasets import fetch_california_housing\n",
    "X, y = fetch_california_housing(return_X_y=True)"
   ]
  },
  {
   "cell_type": "code",
   "execution_count": 7,
   "metadata": {
    "colab": {
     "base_uri": "https://localhost:8080/"
    },
    "id": "8ZKRUCp-ZZx8",
    "outputId": "764571c2-f4b9-4ef9-c89f-81eaf2605460"
   },
   "outputs": [
    {
     "name": "stdout",
     "output_type": "stream",
     "text": [
      "(20640, 8) (20640,)\n"
     ]
    }
   ],
   "source": [
    "# Превращаем регрессию в классификацию\n",
    "y = (y > 2.0).astype(int)\n",
    "print(X.shape, y.shape)"
   ]
  },
  {
   "cell_type": "code",
   "execution_count": 8,
   "metadata": {
    "id": "BB6wtXqYZZx9"
   },
   "outputs": [],
   "source": [
    "X_train, X_test, y_train, y_test = train_test_split(X, y, test_size = 0.2)"
   ]
  },
  {
   "cell_type": "code",
   "execution_count": 9,
   "metadata": {
    "colab": {
     "base_uri": "https://localhost:8080/",
     "height": 296
    },
    "id": "Y7IVGqBkZZx-",
    "outputId": "dd235ca4-5d73-4300-aee9-1b39a2ca39fe"
   },
   "outputs": [
    {
     "data": {
      "image/png": "[encoded data removed]",
      "text/plain": [
       "<Figure size 432x288 with 1 Axes>"
      ]
     },
     "metadata": {
      "needs_background": "light",
      "tags": []
     },
     "output_type": "display_data"
    }
   ],
   "source": [
    "n_estimators = np.arange(50,501,50)\n",
    "res = []\n",
    "\n",
    "for n in n_estimators:\n",
    "    my_clf = MyGradientBoostingClassifier(n_estimators = n)\n",
    "    my_clf.fit(X_train, y_train)\n",
    "    y_pred = my_clf.predict(X_test)\n",
    "    res.append(accuracy_score(y_pred, y_test))\n",
    "    \n",
    "fig, ax = plt.subplots()\n",
    "\n",
    "ax.plot(n_estimators, res)\n",
    "ax.grid()\n",
    "\n",
    "ax.set_title('Зависимость accuracy score от n_estimators ')\n",
    "\n",
    "ax.set_xlabel('n_estimators')\n",
    "ax.set_ylabel('accuracy score')\n",
    "\n",
    "plt.show()"
   ]
  },
  {
   "cell_type": "code",
   "execution_count": 15,
   "metadata": {
    "colab": {
     "base_uri": "https://localhost:8080/"
    },
    "id": "-9CVSIEYZZx_",
    "outputId": "078ba691-953b-4959-e4cb-0819448aacf1"
   },
   "outputs": [
    {
     "data": {
      "text/plain": [
       "{'accuracy': 0.841327519379845,\n",
       " 'colsample': 0.9,\n",
       " 'loss': 'mse',\n",
       " 'subsample': 1.0}"
      ]
     },
     "execution_count": 15,
     "metadata": {
      "tags": []
     },
     "output_type": "execute_result"
    }
   ],
   "source": [
    "top_params = {'loss' : None, 'colsample':0, 'subsample':0, 'accuracy':0}\n",
    "min_acc = 0.0\n",
    "for loss in ['mse', 'exponent','logit']:\n",
    "    for colsample in [0.3, 0.4, 0.5, 0.6, 0.7, 0.8, 0.9, 1.0]:\n",
    "        for subsample in [0.3, 0.4, 0.5, 0.6, 0.7, 0.8, 0.9, 1.0]:\n",
    "            my_clf = MyGradientBoostingClassifier(n_estimators=150, loss=loss, \n",
    "                                                  colsample=colsample, subsample=subsample)\n",
    "            try:\n",
    "                my_clf.fit(X_train, y_train)\n",
    "                y_pred = my_clf.predict(X_test)\n",
    "                acc = accuracy_score(y_pred, y_test)\n",
    "            except Exception:\n",
    "                print(loss, colsample, subsample)\n",
    "            if min_acc < acc:\n",
    "                top_params['loss'] = loss\n",
    "                top_params['colsample'] = colsample\n",
    "                top_params['subsample'] = subsample\n",
    "                top_params['accuracy'] = acc\n",
    "                min_acc = acc\n",
    "top_params      "
   ]
  },
  {
   "cell_type": "markdown",
   "metadata": {
    "id": "mzCs1mZNZZyA"
   },
   "source": [
    "## BooBag BagBoo (1 балл)\n",
    "\n"
   ]
  },
  {
   "cell_type": "markdown",
   "metadata": {
    "id": "4fwI8XZ-ZZyA"
   },
   "source": [
    "Попробуем объединить бустинг и бэгинг. Давайте\n",
    "\n",
    "1) в качестве базовой модели брать не дерево решений, а случайный лес (из sklearn)\n",
    "\n",
    "2) обучать N бустингов на бустрапированной выборке, а затем предикт усреднять"
   ]
  },
  {
   "cell_type": "markdown",
   "metadata": {
    "id": "WoTsWwaeZZyC"
   },
   "source": [
    "Попробуйте обе этих стратегии на данных из прошлого задания. Получилось ли улучшить качество? Почему?"
   ]
  },
  {
   "cell_type": "code",
   "execution_count": 37,
   "metadata": {
    "colab": {
     "base_uri": "https://localhost:8080/"
    },
    "id": "yo5xakVTZZyE",
    "outputId": "e2fb80c1-5499-4000-b867-d934e0708a38"
   },
   "outputs": [
    {
     "data": {
      "text/plain": [
       "0.8282461240310077"
      ]
     },
     "execution_count": 37,
     "metadata": {
      "tags": []
     },
     "output_type": "execute_result"
    }
   ],
   "source": [
    "my_clf = MyGradientBoostingClassifier(loss='mse', n_estimators=150, subsample=1, colsample=0.9)\n",
    "my_clf.fit(X_train, y_train, base_model=RandomForestRegressor)\n",
    "y_pred = my_clf.predict(X_test)\n",
    "accuracy_score(y_pred, y_test)"
   ]
  },
  {
   "cell_type": "code",
   "execution_count": 20,
   "metadata": {
    "colab": {
     "base_uri": "https://localhost:8080/"
    },
    "id": "8L28msmXZZyF",
    "outputId": "a63300e2-0425-4d7a-e8a9-0f759fd3c1cf"
   },
   "outputs": [
    {
     "name": "stdout",
     "output_type": "stream",
     "text": [
      "0.8384205426356589\n"
     ]
    }
   ],
   "source": [
    "my_clfs = []\n",
    "for nest in range(20):\n",
    "    idx = np.random.choice(X_train.shape[0], X_train.shape[0], replace=True)\n",
    "    my_clf = MyGradientBoostingClassifier(loss='mse', n_estimators=150, subsample=1, colsample=0.9)\n",
    "    my_clf.fit(X_train[idx], y_train[idx], DecisionTreeRegressor)\n",
    "    my_clfs.append(my_clf)\n",
    "pred = 0\n",
    "for m in my_clfs:\n",
    "    pred += m.predict(X_test)\n",
    "pred = (np.around(pred/len(my_clfs))).astype(int)\n",
    "print(accuracy_score(pred, y_test))"
   ]
  },
  {
   "cell_type": "markdown",
   "metadata": {
    "id": "5davleheFOfC"
   },
   "source": [
    "Качество упало, думаю из-за того что тут вырастает кол-во гиперпараметров и сооотвественно надо произвести граммотный их подбор, тогда думаю качество можно улучшить"
   ]
  },
  {
   "cell_type": "markdown",
   "metadata": {
    "collapsed": true,
    "id": "sX-DPJD3ZZyF"
   },
   "source": [
    "## Умная инициализация (1 балл)\n",
    "\n",
    "Попробуйте брать в качестве инициализации бустинга не константу, а какой-то алгоритм и уже от его предикта стартовать итерации бустинга. Попробуйте разные модели из sklearn: линейные модели, рандом форест, svm..\n",
    "\n",
    "Получилось ли улучшить качество? Почему?\n",
    "\n"
   ]
  },
  {
   "cell_type": "code",
   "execution_count": 35,
   "metadata": {
    "colab": {
     "base_uri": "https://localhost:8080/"
    },
    "id": "iqwS_lsjZZyG",
    "outputId": "029f931b-747f-4fbe-8847-c4af9de61a23"
   },
   "outputs": [
    {
     "name": "stdout",
     "output_type": "stream",
     "text": [
      "Accuracy - init_model <class 'sklearn.svm._classes.SVR'>: 0.8393895348837209\n",
      "Accuracy - init_model <class 'sklearn.linear_model._base.LinearRegression'>: 0.8500484496124031\n",
      "Accuracy - init_model <class 'sklearn.neighbors._regression.KNeighborsRegressor'>: 0.6858042635658915\n",
      "Accuracy - init_model <class 'sklearn.ensemble._forest.RandomForestRegressor'>: 0.8832364341085271\n"
     ]
    }
   ],
   "source": [
    "from sklearn.linear_model import LinearRegression\n",
    "from sklearn.svm import SVR\n",
    "from sklearn.neighbors import KNeighborsRegressor\n",
    "\n",
    "for init_model in [SVR, LinearRegression, KNeighborsRegressor, RandomForestRegressor]:\n",
    "    my_clf = MyGradientBoostingClassifier(loss='mse', n_estimators=150, subsample=1, colsample=0.9)\n",
    "    my_clf.fit(X_train, y_train, init_model=init_model)\n",
    "    acc = accuracy_score(my_clf.predict(X_test), y_test)\n",
    "    print(f'Accuracy - init_model {init_model}: {acc}')"
   ]
  },
  {
   "cell_type": "markdown",
   "metadata": {
    "id": "TvZMV0A1RAFD"
   },
   "source": [
    "Лучший показатель для RandomForestRegressor, удалось увеличить качество"
   ]
  },
  {
   "cell_type": "code",
   "execution_count": null,
   "metadata": {
    "id": "0h8d35syZZyG"
   },
   "outputs": [],
   "source": []
  },
  {
   "cell_type": "markdown",
   "metadata": {
    "id": "fs6Xy11kZZyG"
   },
   "source": [
    "## Фидбек (бесценно)"
   ]
  },
  {
   "cell_type": "markdown",
   "metadata": {
    "id": "EG1anPinZZyI"
   },
   "source": [
    "* Какие аспекты обучения  ансамблей Вам показались непонятными? Какое место стоит дополнительно объяснить?"
   ]
  },
  {
   "cell_type": "markdown",
   "metadata": {
    "id": "SSN9Vh6_ZZyJ"
   },
   "source": [
    "### Ваш ответ здесь"
   ]
  },
  {
   "cell_type": "markdown",
   "metadata": {
    "id": "hGMGfwK1ZZyK"
   },
   "source": [
    "* Здесь Вы можете оставить отзыв о этой домашней работе или о всем курсе."
   ]
  },
  {
   "cell_type": "markdown",
   "metadata": {
    "id": "MWDkyP-zZZyK"
   },
   "source": [
    "### ВАШ ОТЗЫВ ЗДЕСЬ\n",
    "\n"
   ]
  },
  {
   "cell_type": "code",
   "execution_count": null,
   "metadata": {
    "id": "7G2Q57CUZZyL"
   },
   "outputs": [],
   "source": []
  },
  {
   "cell_type": "code",
   "execution_count": null,
   "metadata": {
    "id": "cui1DuPfZZyL"
   },
   "outputs": [],
   "source": []
  }
 ],
 "metadata": {
  "anaconda-cloud": {},
  "colab": {
   "collapsed_sections": [],
   "name": "zhenin_hw4.ipynb",
   "provenance": []
  },
  "kernelspec": {
   "display_name": "Python 3",
   "language": "python",
   "name": "python3"
  },
  "language_info": {
   "codemirror_mode": {
    "name": "ipython",
    "version": 3
   },
   "file_extension": ".py",
   "mimetype": "text/x-python",
   "name": "python",
   "nbconvert_exporter": "python",
   "pygments_lexer": "ipython3",
   "version": "3.8.3"
  }
 },
 "nbformat": 4,
 "nbformat_minor": 1
}
